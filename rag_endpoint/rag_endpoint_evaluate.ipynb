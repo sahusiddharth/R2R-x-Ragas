{
 "cells": [
  {
   "cell_type": "code",
   "execution_count": null,
   "metadata": {},
   "outputs": [],
   "source": [
    "!pip install r2r -q"
   ]
  },
  {
   "cell_type": "code",
   "execution_count": null,
   "metadata": {},
   "outputs": [],
   "source": [
    "import os\n",
    "from dotenv import load_dotenv\n",
    "\n",
    "load_dotenv()"
   ]
  },
  {
   "cell_type": "code",
   "execution_count": 1,
   "metadata": {},
   "outputs": [],
   "source": [
    "from r2r import R2RAsyncClient\n",
    "\n",
    "client = R2RAsyncClient()"
   ]
  },
  {
   "cell_type": "code",
   "execution_count": 2,
   "metadata": {},
   "outputs": [],
   "source": [
    "query = \"What makes Meta AI’s LLaMA models stand out?\"\n",
    "\n",
    "reference = \"Meta AI’s LLaMA models stand out for being open-source, supporting innovation and experimentation due to their accessibility and strong performance.\"\n",
    "\n",
    "search_settings = {\n",
    "        \"limit\": 2,\n",
    "        \"graph_settings\": {\"enabled\": False, \"limit\": 2},\n",
    "    }\n",
    "\n",
    "response = await client.retrieval.rag(\n",
    "    query=query,\n",
    "    search_settings=search_settings\n",
    ")"
   ]
  },
  {
   "cell_type": "code",
   "execution_count": 3,
   "metadata": {},
   "outputs": [
    {
     "data": {
      "text/plain": [
       "'Meta AI’s LLaMA models stand out due to their open-source nature, which supports innovation and experimentation by making high-quality models accessible to researchers and developers without the need for expensive resources [1], [2]. This democratization of AI development fosters collaboration across industries, allowing a broader range of individuals and organizations to contribute to and benefit from advanced AI technologies [2].'"
      ]
     },
     "execution_count": 3,
     "metadata": {},
     "output_type": "execute_result"
    }
   ],
   "source": [
    "response.results.generated_answer"
   ]
  },
  {
   "cell_type": "code",
   "execution_count": null,
   "metadata": {},
   "outputs": [],
   "source": [
    "response.results.search_results"
   ]
  },
  {
   "cell_type": "code",
   "execution_count": null,
   "metadata": {},
   "outputs": [],
   "source": [
    "\n",
    "chunks = [\n",
    "    \"OpenAI is one of the most recognized names in the large language model space, known for its GPT series of models. These models excel at generating human-like text and performing tasks like creative writing, answering questions, and summarizing content. GPT-4, their latest release, has set benchmarks in understanding context and delivering detailed responses.\",\n",
    "    \"Anthropic is well-known for its Claude series of language models, designed with a strong focus on safety and ethical AI behavior. Claude is particularly praised for its ability to follow complex instructions and generate text that aligns closely with user intent.\",\n",
    "    \"DeepMind, a division of Google, is recognized for its cutting-edge Gemini models, which are integrated into various Google products like Bard and Workspace tools. These models are renowned for their conversational abilities and their capacity to handle complex, multi-turn dialogues.\",\n",
    "    \"Meta AI is best known for its LLaMA (Large Language Model Meta AI) series, which has been made open-source for researchers and developers. LLaMA models are praised for their ability to support innovation and experimentation due to their accessibility and strong performance.\",\n",
    "    \"Meta AI with it's LLaMA models aims to democratize AI development by making high-quality models available for free, fostering collaboration across industries. Their open-source approach has been a game-changer for researchers without access to expensive resources.\",\n",
    "    \"Microsoft’s Azure AI platform is famous for integrating OpenAI’s GPT models, enabling businesses to use these advanced models in a scalable and secure cloud environment. Azure AI powers applications like Copilot in Office 365, helping users draft emails, generate summaries, and more.\",\n",
    "    \"Amazon’s Bedrock platform is recognized for providing access to various language models, including its own models and third-party ones like Anthropic’s Claude and AI21’s Jurassic. Bedrock is especially valued for its flexibility, allowing users to choose models based on their specific needs.\",\n",
    "    \"Cohere is well-known for its language models tailored for business use, excelling in tasks like search, summarization, and customer support. Their models are recognized for being efficient, cost-effective, and easy to integrate into workflows.\",\n",
    "    \"AI21 Labs is famous for its Jurassic series of language models, which are highly versatile and capable of handling tasks like content creation and code generation. The Jurassic models stand out for their natural language understanding and ability to generate detailed and coherent responses.\",\n",
    "    \"In the rapidly advancing field of artificial intelligence, several companies have made significant contributions with their large language models. Notable players include OpenAI, known for its GPT Series (including GPT-4); Anthropic, which offers the Claude Series; Google DeepMind with its Gemini Models; Meta AI, recognized for its LLaMA Series; Microsoft Azure AI, which integrates OpenAI’s GPT Models; Amazon AWS (Bedrock), providing access to various models including Claude (Anthropic) and Jurassic (AI21 Labs); Cohere, which offers its own models tailored for business use; and AI21 Labs, known for its Jurassic Series. These companies are shaping the landscape of AI by providing powerful models with diverse capabilities.\",\n",
    "]\n",
    "\n",
    "ingest_response = client.documents.create(\n",
    "    chunks=chunks,\n",
    ")"
   ]
  },
  {
   "cell_type": "code",
   "execution_count": 4,
   "metadata": {},
   "outputs": [],
   "source": [
    "questions = [\n",
    "    \"Who are the major players in the large language model space?\",\n",
    "    \"What is Microsoft’s Azure AI platform known for?\",\n",
    "    \"What kind of models does Cohere provide?\",\n",
    "]\n",
    "\n",
    "references = [\n",
    "    \"The major players include OpenAI (GPT Series), Anthropic (Claude Series), Google DeepMind (Gemini Models), Meta AI (LLaMA Series), Microsoft Azure AI (integrating GPT Models), Amazon AWS (Bedrock with Claude and Jurassic), Cohere (business-focused models), and AI21 Labs (Jurassic Series).\",\n",
    "    \"Microsoft’s Azure AI platform is known for integrating OpenAI’s GPT models, enabling businesses to use these models in a scalable and secure cloud environment.\",\n",
    "    \"Cohere provides language models tailored for business use, excelling in tasks like search, summarization, and customer support.\",\n",
    "]"
   ]
  },
  {
   "cell_type": "code",
   "execution_count": 5,
   "metadata": {},
   "outputs": [
    {
     "name": "stderr",
     "output_type": "stream",
     "text": [
      "/Users/nexus/miniconda3/envs/rags2riches/lib/python3.12/site-packages/tqdm/auto.py:21: TqdmWarning: IProgress not found. Please update jupyter and ipywidgets. See https://ipywidgets.readthedocs.io/en/stable/user_install.html\n",
      "  from .autonotebook import tqdm as notebook_tqdm\n"
     ]
    },
    {
     "data": {
      "text/plain": [
       "EvaluationDataset(features=['user_input', 'reference'], len=3)"
      ]
     },
     "execution_count": 5,
     "metadata": {},
     "output_type": "execute_result"
    }
   ],
   "source": [
    "from ragas.dataset_schema import EvaluationDataset\n",
    "\n",
    "sample_list = []\n",
    "for i in range(len(questions)):\n",
    "\tsample = {\n",
    "\t\t\"user_input\":questions[i],\n",
    "\t\t\"reference\":references[i],\n",
    "\t\t}\n",
    "\tsample_list.append(sample)\n",
    "\t\t\n",
    "eval_dataset = EvaluationDataset.from_list(sample_list)\n",
    "eval_dataset"
   ]
  },
  {
   "cell_type": "code",
   "execution_count": null,
   "metadata": {},
   "outputs": [
    {
     "name": "stderr",
     "output_type": "stream",
     "text": [
      "Querying Client: 100%|██████████| 3/3 [00:02<00:00,  1.19it/s]\n",
      "Evaluating: 100%|██████████| 9/9 [00:15<00:00,  1.76s/it]\n"
     ]
    }
   ],
   "source": [
    "from ragas.metrics import AnswerRelevancy, ContextPrecision, Faithfulness\n",
    "from r2r_new import evaluate\n",
    "from langchain_openai import ChatOpenAI\n",
    "from ragas.llms import LangchainLLMWrapper\n",
    "\n",
    "llm = ChatOpenAI(model=\"gpt-4o-mini\")\n",
    "evaluator_llm = LangchainLLMWrapper(llm)\n",
    "ragas_metrics = [AnswerRelevancy(), ContextPrecision(), Faithfulness()]\n",
    "\n",
    "search_settings = {\n",
    "    \"limit\": 2,\n",
    "    \"graph_settings\": {\"enabled\": False, \"limit\": 2},\n",
    "}\n",
    "\n",
    "result = evaluate(\n",
    "    r2r_client=client,\n",
    "    search_settings=search_settings,\n",
    "    dataset=eval_dataset,\n",
    "    llm=evaluator_llm,\n",
    "    metrics=ragas_metrics,\n",
    ")\n",
    "result"
   ]
  },
  {
   "cell_type": "code",
   "execution_count": 7,
   "metadata": {},
   "outputs": [
    {
     "data": {
      "text/html": [
       "<div>\n",
       "<style scoped>\n",
       "    .dataframe tbody tr th:only-of-type {\n",
       "        vertical-align: middle;\n",
       "    }\n",
       "\n",
       "    .dataframe tbody tr th {\n",
       "        vertical-align: top;\n",
       "    }\n",
       "\n",
       "    .dataframe thead th {\n",
       "        text-align: right;\n",
       "    }\n",
       "</style>\n",
       "<table border=\"1\" class=\"dataframe\">\n",
       "  <thead>\n",
       "    <tr style=\"text-align: right;\">\n",
       "      <th></th>\n",
       "      <th>user_input</th>\n",
       "      <th>retrieved_contexts</th>\n",
       "      <th>response</th>\n",
       "      <th>reference</th>\n",
       "      <th>answer_relevancy</th>\n",
       "      <th>context_precision</th>\n",
       "      <th>faithfulness</th>\n",
       "    </tr>\n",
       "  </thead>\n",
       "  <tbody>\n",
       "    <tr>\n",
       "      <th>0</th>\n",
       "      <td>Who are the major players in the large languag...</td>\n",
       "      <td>[In the rapidly advancing field of artificial ...</td>\n",
       "      <td>The major players in the large language model ...</td>\n",
       "      <td>The major players include OpenAI (GPT Series),...</td>\n",
       "      <td>1.000000</td>\n",
       "      <td>1.0</td>\n",
       "      <td>1.000000</td>\n",
       "    </tr>\n",
       "    <tr>\n",
       "      <th>1</th>\n",
       "      <td>What is Microsoft’s Azure AI platform known for?</td>\n",
       "      <td>[Microsoft’s Azure AI platform is famous for i...</td>\n",
       "      <td>Microsoft’s Azure AI platform is known for int...</td>\n",
       "      <td>Microsoft’s Azure AI platform is known for int...</td>\n",
       "      <td>0.948908</td>\n",
       "      <td>1.0</td>\n",
       "      <td>0.833333</td>\n",
       "    </tr>\n",
       "    <tr>\n",
       "      <th>2</th>\n",
       "      <td>What kind of models does Cohere provide?</td>\n",
       "      <td>[Cohere is well-known for its language models ...</td>\n",
       "      <td>Cohere provides language models tailored for b...</td>\n",
       "      <td>Cohere provides language models tailored for b...</td>\n",
       "      <td>0.901376</td>\n",
       "      <td>1.0</td>\n",
       "      <td>1.000000</td>\n",
       "    </tr>\n",
       "  </tbody>\n",
       "</table>\n",
       "</div>"
      ],
      "text/plain": [
       "                                          user_input  \\\n",
       "0  Who are the major players in the large languag...   \n",
       "1   What is Microsoft’s Azure AI platform known for?   \n",
       "2           What kind of models does Cohere provide?   \n",
       "\n",
       "                                  retrieved_contexts  \\\n",
       "0  [In the rapidly advancing field of artificial ...   \n",
       "1  [Microsoft’s Azure AI platform is famous for i...   \n",
       "2  [Cohere is well-known for its language models ...   \n",
       "\n",
       "                                            response  \\\n",
       "0  The major players in the large language model ...   \n",
       "1  Microsoft’s Azure AI platform is known for int...   \n",
       "2  Cohere provides language models tailored for b...   \n",
       "\n",
       "                                           reference  answer_relevancy  \\\n",
       "0  The major players include OpenAI (GPT Series),...          1.000000   \n",
       "1  Microsoft’s Azure AI platform is known for int...          0.948908   \n",
       "2  Cohere provides language models tailored for b...          0.901376   \n",
       "\n",
       "   context_precision  faithfulness  \n",
       "0                1.0      1.000000  \n",
       "1                1.0      0.833333  \n",
       "2                1.0      1.000000  "
      ]
     },
     "execution_count": 7,
     "metadata": {},
     "output_type": "execute_result"
    }
   ],
   "source": [
    "result.to_pandas()"
   ]
  },
  {
   "cell_type": "code",
   "execution_count": null,
   "metadata": {},
   "outputs": [],
   "source": []
  }
 ],
 "metadata": {
  "kernelspec": {
   "display_name": "rags2riches",
   "language": "python",
   "name": "python3"
  },
  "language_info": {
   "codemirror_mode": {
    "name": "ipython",
    "version": 3
   },
   "file_extension": ".py",
   "mimetype": "text/x-python",
   "name": "python",
   "nbconvert_exporter": "python",
   "pygments_lexer": "ipython3",
   "version": "3.12.8"
  }
 },
 "nbformat": 4,
 "nbformat_minor": 2
}
