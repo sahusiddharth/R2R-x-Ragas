{
 "cells": [
  {
   "cell_type": "code",
   "execution_count": 1,
   "metadata": {},
   "outputs": [
    {
     "data": {
      "text/plain": [
       "True"
      ]
     },
     "execution_count": 1,
     "metadata": {},
     "output_type": "execute_result"
    }
   ],
   "source": [
    "import os\n",
    "from dotenv import load_dotenv\n",
    "\n",
    "load_dotenv()"
   ]
  },
  {
   "cell_type": "code",
   "execution_count": 2,
   "metadata": {},
   "outputs": [],
   "source": [
    "from r2r import R2RAsyncClient\n",
    "\n",
    "client = R2RAsyncClient()"
   ]
  },
  {
   "cell_type": "code",
   "execution_count": 3,
   "metadata": {},
   "outputs": [],
   "source": [
    "questions = [\n",
    "    \"Who are the major players in the large language model space?\",\n",
    "    \"What is Microsoft’s Azure AI platform known for?\",\n",
    "    \"What kind of models does Cohere provide?\",\n",
    "]\n",
    "\n",
    "references = [\n",
    "    \"The major players include OpenAI (GPT Series), Anthropic (Claude Series), Google DeepMind (Gemini Models), Meta AI (LLaMA Series), Microsoft Azure AI (integrating GPT Models), Amazon AWS (Bedrock with Claude and Jurassic), Cohere (business-focused models), and AI21 Labs (Jurassic Series).\",\n",
    "    \"Microsoft’s Azure AI platform is known for integrating OpenAI’s GPT models, enabling businesses to use these models in a scalable and secure cloud environment.\",\n",
    "    \"Cohere provides language models tailored for business use, excelling in tasks like search, summarization, and customer support.\",\n",
    "]"
   ]
  },
  {
   "cell_type": "code",
   "execution_count": 4,
   "metadata": {},
   "outputs": [],
   "source": [
    "search_settings = {\n",
    "    \"limit\": 2,\n",
    "    \"graph_settings\": {\"enabled\": False, \"limit\": 2},\n",
    "}\n",
    "\n",
    "r2r_responses = []\n",
    "\n",
    "for que in questions:\n",
    "    response = await client.retrieval.rag(query=que, search_settings=search_settings)\n",
    "    r2r_responses.append(response)"
   ]
  },
  {
   "cell_type": "code",
   "execution_count": 5,
   "metadata": {},
   "outputs": [],
   "source": [
    "from r2r_new import transform_to_ragas_dataset\n",
    "\n",
    "ragas_eval_dataset = transform_to_ragas_dataset(\n",
    "    user_inputs=questions, r2r_responses=r2r_responses, references=references\n",
    ")"
   ]
  },
  {
   "cell_type": "code",
   "execution_count": 6,
   "metadata": {},
   "outputs": [
    {
     "data": {
      "text/plain": [
       "EvaluationDataset(features=['user_input', 'retrieved_contexts', 'response', 'reference'], len=3)"
      ]
     },
     "execution_count": 6,
     "metadata": {},
     "output_type": "execute_result"
    }
   ],
   "source": [
    "ragas_eval_dataset"
   ]
  },
  {
   "cell_type": "code",
   "execution_count": 7,
   "metadata": {},
   "outputs": [
    {
     "data": {
      "application/vnd.jupyter.widget-view+json": {
       "model_id": "ed7206761a9340aba07553b9a746ecb7",
       "version_major": 2,
       "version_minor": 0
      },
      "text/plain": [
       "Evaluating:   0%|          | 0/9 [00:00<?, ?it/s]"
      ]
     },
     "metadata": {},
     "output_type": "display_data"
    }
   ],
   "source": [
    "from ragas.metrics import AnswerRelevancy, ContextPrecision, Faithfulness\n",
    "from ragas import evaluate\n",
    "from langchain_openai import ChatOpenAI\n",
    "from ragas.llms import LangchainLLMWrapper\n",
    "\n",
    "llm = ChatOpenAI(model=\"gpt-4o-mini\")\n",
    "evaluator_llm = LangchainLLMWrapper(llm)\n",
    "\n",
    "ragas_metrics = [AnswerRelevancy(llm=evaluator_llm ), ContextPrecision(llm=evaluator_llm ), Faithfulness(llm=evaluator_llm )]\n",
    "\n",
    "result = evaluate(dataset=ragas_eval_dataset, metrics=ragas_metrics)"
   ]
  },
  {
   "cell_type": "code",
   "execution_count": 8,
   "metadata": {},
   "outputs": [
    {
     "data": {
      "text/html": [
       "<div>\n",
       "<style scoped>\n",
       "    .dataframe tbody tr th:only-of-type {\n",
       "        vertical-align: middle;\n",
       "    }\n",
       "\n",
       "    .dataframe tbody tr th {\n",
       "        vertical-align: top;\n",
       "    }\n",
       "\n",
       "    .dataframe thead th {\n",
       "        text-align: right;\n",
       "    }\n",
       "</style>\n",
       "<table border=\"1\" class=\"dataframe\">\n",
       "  <thead>\n",
       "    <tr style=\"text-align: right;\">\n",
       "      <th></th>\n",
       "      <th>user_input</th>\n",
       "      <th>retrieved_contexts</th>\n",
       "      <th>response</th>\n",
       "      <th>reference</th>\n",
       "      <th>answer_relevancy</th>\n",
       "      <th>context_precision</th>\n",
       "      <th>faithfulness</th>\n",
       "    </tr>\n",
       "  </thead>\n",
       "  <tbody>\n",
       "    <tr>\n",
       "      <th>0</th>\n",
       "      <td>Who are the major players in the large languag...</td>\n",
       "      <td>[In the rapidly advancing field of artificial ...</td>\n",
       "      <td>The major players in the large language model ...</td>\n",
       "      <td>The major players include OpenAI (GPT Series),...</td>\n",
       "      <td>1.000000</td>\n",
       "      <td>1.0</td>\n",
       "      <td>1.0</td>\n",
       "    </tr>\n",
       "    <tr>\n",
       "      <th>1</th>\n",
       "      <td>What is Microsoft’s Azure AI platform known for?</td>\n",
       "      <td>[Microsoft’s Azure AI platform is famous for i...</td>\n",
       "      <td>Microsoft’s Azure AI platform is known for int...</td>\n",
       "      <td>Microsoft’s Azure AI platform is known for int...</td>\n",
       "      <td>1.000000</td>\n",
       "      <td>1.0</td>\n",
       "      <td>1.0</td>\n",
       "    </tr>\n",
       "    <tr>\n",
       "      <th>2</th>\n",
       "      <td>What kind of models does Cohere provide?</td>\n",
       "      <td>[Cohere is well-known for its language models ...</td>\n",
       "      <td>Cohere provides language models tailored for b...</td>\n",
       "      <td>Cohere provides language models tailored for b...</td>\n",
       "      <td>0.903765</td>\n",
       "      <td>1.0</td>\n",
       "      <td>1.0</td>\n",
       "    </tr>\n",
       "  </tbody>\n",
       "</table>\n",
       "</div>"
      ],
      "text/plain": [
       "                                          user_input  \\\n",
       "0  Who are the major players in the large languag...   \n",
       "1   What is Microsoft’s Azure AI platform known for?   \n",
       "2           What kind of models does Cohere provide?   \n",
       "\n",
       "                                  retrieved_contexts  \\\n",
       "0  [In the rapidly advancing field of artificial ...   \n",
       "1  [Microsoft’s Azure AI platform is famous for i...   \n",
       "2  [Cohere is well-known for its language models ...   \n",
       "\n",
       "                                            response  \\\n",
       "0  The major players in the large language model ...   \n",
       "1  Microsoft’s Azure AI platform is known for int...   \n",
       "2  Cohere provides language models tailored for b...   \n",
       "\n",
       "                                           reference  answer_relevancy  \\\n",
       "0  The major players include OpenAI (GPT Series),...          1.000000   \n",
       "1  Microsoft’s Azure AI platform is known for int...          1.000000   \n",
       "2  Cohere provides language models tailored for b...          0.903765   \n",
       "\n",
       "   context_precision  faithfulness  \n",
       "0                1.0           1.0  \n",
       "1                1.0           1.0  \n",
       "2                1.0           1.0  "
      ]
     },
     "execution_count": 8,
     "metadata": {},
     "output_type": "execute_result"
    }
   ],
   "source": [
    "result.to_pandas()"
   ]
  },
  {
   "cell_type": "code",
   "execution_count": 9,
   "metadata": {},
   "outputs": [
    {
     "name": "stdout",
     "output_type": "stream",
     "text": [
      "Evaluation results uploaded! View at https://app.ragas.io/dashboard/alignment/evaluation/665ca1f2-03e1-478f-a0b0-8d23f6049b30\n"
     ]
    },
    {
     "data": {
      "text/plain": [
       "'https://app.ragas.io/dashboard/alignment/evaluation/665ca1f2-03e1-478f-a0b0-8d23f6049b30'"
      ]
     },
     "execution_count": 9,
     "metadata": {},
     "output_type": "execute_result"
    }
   ],
   "source": [
    "result.upload()"
   ]
  }
 ],
 "metadata": {
  "kernelspec": {
   "display_name": "ragas",
   "language": "python",
   "name": "python3"
  },
  "language_info": {
   "codemirror_mode": {
    "name": "ipython",
    "version": 3
   },
   "file_extension": ".py",
   "mimetype": "text/x-python",
   "name": "python",
   "nbconvert_exporter": "python",
   "pygments_lexer": "ipython3",
   "version": "3.11.9"
  }
 },
 "nbformat": 4,
 "nbformat_minor": 2
}
